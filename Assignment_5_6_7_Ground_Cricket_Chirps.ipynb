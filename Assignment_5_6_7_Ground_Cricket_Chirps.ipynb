{
  "cells": [
    {
      "cell_type": "markdown",
      "metadata": {
        "id": "view-in-github",
        "colab_type": "text"
      },
      "source": [
        "<a href=\"https://colab.research.google.com/github/MANOJVENKATH/Task_7/blob/main/Assignment_5_6_7_Ground_Cricket_Chirps.ipynb\" target=\"_parent\"><img src=\"https://colab.research.google.com/assets/colab-badge.svg\" alt=\"Open In Colab\"/></a>"
      ]
    },
    {
      "cell_type": "markdown",
      "id": "8b72fca0",
      "metadata": {
        "id": "8b72fca0"
      },
      "source": [
        "# Ground Cricket Chirps\n",
        "\n",
        "In The Song of Insects (1948) by George W. Pierce, Pierce mechanically measured the frequency (the number of wing vibrations per second) of chirps (or pulses of sound) made by a striped ground cricket, at various ground temperatures. Since crickets are ectotherms (cold-blooded), the rate of their physiological processes and their overall metabolism are influenced by temperature. Consequently, there is reason to believe that temperature would have a profound effect on aspects of their behavior, such as chirp frequency.\n",
        "\n",
        "In general, it was found that crickets did not sing at temperatures colder than 60º F. or warmer than 100º F."
      ]
    },
    {
      "cell_type": "code",
      "execution_count": null,
      "id": "e3302c34",
      "metadata": {
        "id": "e3302c34"
      },
      "outputs": [],
      "source": [
        "ground_cricket_data = {\"Chirps/Second\": [20.0, 16.0, 19.8, 18.4, 17.1, 15.5, 14.7,\n",
        "                                         15.7, 15.4, 16.3, 15.0, 17.2, 16.0, 17.0,\n",
        "                                         14.4],\n",
        "                       \"Ground Temperature\": [88.6, 71.6, 93.3, 84.3, 80.6, 75.2, 69.7,\n",
        "                                              71.6, 69.4, 83.3, 79.6, 82.6, 80.6, 83.5,\n",
        "                                              76.3]}\n",
        "df = pd.DataFrame(ground_cricket_data)"
      ]
    },
    {
      "cell_type": "markdown",
      "id": "2cb8eac2",
      "metadata": {
        "id": "2cb8eac2"
      },
      "source": [
        "### Tasks\n",
        "1. Find the linear regression equation for this data.\n",
        "2. Chart the original data and the equation on the chart.\n",
        "3. Find the equation's $R^2$ score (use the `.score` method) to determine whether the\n",
        "equation is a good fit for this data. (0.8 and greater is considered a strong correlation.)\n",
        "4. Extrapolate data:  If the ground temperature reached 95, then at what approximate rate would you expect the crickets to be chirping?\n",
        "5. Interpolate data:  With a listening device, you discovered that on a particular morning the crickets were chirping at a rate of 18 chirps per second.  What was the approximate ground temperature that morning? "
      ]
    },
    {
      "cell_type": "markdown",
      "id": "f4fd8309",
      "metadata": {
        "id": "f4fd8309"
      },
      "source": [
        "## Solution:"
      ]
    },
    {
      "cell_type": "code",
      "execution_count": null,
      "id": "352f4a17",
      "metadata": {
        "id": "352f4a17"
      },
      "outputs": [],
      "source": [
        "## Import necessary libraries\n",
        "\n",
        "import numpy as np \n",
        "import pandas as pd\n",
        "import matplotlib.pyplot as plt\n",
        "import seaborn as sns\n",
        "import warnings\n",
        "warnings.filterwarnings('ignore')\n",
        "from sklearn.model_selection import train_test_split\n",
        "from sklearn.preprocessing import StandardScaler\n",
        "from sklearn.linear_model import LinearRegression\n",
        "from sklearn.metrics import r2_score,mean_absolute_error"
      ]
    },
    {
      "cell_type": "code",
      "execution_count": null,
      "id": "3a03eabc",
      "metadata": {
        "id": "3a03eabc"
      },
      "outputs": [],
      "source": [
        "ground_cricket_data = {\"Chirps/Second\": [20.0, 16.0, 19.8, 18.4, 17.1, 15.5, 14.7,\n",
        "                                         15.7, 15.4, 16.3, 15.0, 17.2, 16.0, 17.0,\n",
        "                                         14.4],\n",
        "                       \"Ground Temperature\": [88.6, 71.6, 93.3, 84.3, 80.6, 75.2, 69.7,\n",
        "                                              71.6, 69.4, 83.3, 79.6, 82.6, 80.6, 83.5,\n",
        "                                              76.3]}\n",
        "df = pd.DataFrame(ground_cricket_data)"
      ]
    },
    {
      "cell_type": "code",
      "execution_count": null,
      "id": "17df9899",
      "metadata": {
        "id": "17df9899",
        "outputId": "132039f9-1dcd-4acf-a853-506e943ea3e5"
      },
      "outputs": [
        {
          "data": {
            "text/html": [
              "<div>\n",
              "<style scoped>\n",
              "    .dataframe tbody tr th:only-of-type {\n",
              "        vertical-align: middle;\n",
              "    }\n",
              "\n",
              "    .dataframe tbody tr th {\n",
              "        vertical-align: top;\n",
              "    }\n",
              "\n",
              "    .dataframe thead th {\n",
              "        text-align: right;\n",
              "    }\n",
              "</style>\n",
              "<table border=\"1\" class=\"dataframe\">\n",
              "  <thead>\n",
              "    <tr style=\"text-align: right;\">\n",
              "      <th></th>\n",
              "      <th>Chirps/Second</th>\n",
              "      <th>Ground Temperature</th>\n",
              "    </tr>\n",
              "  </thead>\n",
              "  <tbody>\n",
              "    <tr>\n",
              "      <th>0</th>\n",
              "      <td>20.0</td>\n",
              "      <td>88.6</td>\n",
              "    </tr>\n",
              "    <tr>\n",
              "      <th>1</th>\n",
              "      <td>16.0</td>\n",
              "      <td>71.6</td>\n",
              "    </tr>\n",
              "    <tr>\n",
              "      <th>2</th>\n",
              "      <td>19.8</td>\n",
              "      <td>93.3</td>\n",
              "    </tr>\n",
              "    <tr>\n",
              "      <th>3</th>\n",
              "      <td>18.4</td>\n",
              "      <td>84.3</td>\n",
              "    </tr>\n",
              "    <tr>\n",
              "      <th>4</th>\n",
              "      <td>17.1</td>\n",
              "      <td>80.6</td>\n",
              "    </tr>\n",
              "    <tr>\n",
              "      <th>5</th>\n",
              "      <td>15.5</td>\n",
              "      <td>75.2</td>\n",
              "    </tr>\n",
              "    <tr>\n",
              "      <th>6</th>\n",
              "      <td>14.7</td>\n",
              "      <td>69.7</td>\n",
              "    </tr>\n",
              "    <tr>\n",
              "      <th>7</th>\n",
              "      <td>15.7</td>\n",
              "      <td>71.6</td>\n",
              "    </tr>\n",
              "    <tr>\n",
              "      <th>8</th>\n",
              "      <td>15.4</td>\n",
              "      <td>69.4</td>\n",
              "    </tr>\n",
              "    <tr>\n",
              "      <th>9</th>\n",
              "      <td>16.3</td>\n",
              "      <td>83.3</td>\n",
              "    </tr>\n",
              "    <tr>\n",
              "      <th>10</th>\n",
              "      <td>15.0</td>\n",
              "      <td>79.6</td>\n",
              "    </tr>\n",
              "    <tr>\n",
              "      <th>11</th>\n",
              "      <td>17.2</td>\n",
              "      <td>82.6</td>\n",
              "    </tr>\n",
              "    <tr>\n",
              "      <th>12</th>\n",
              "      <td>16.0</td>\n",
              "      <td>80.6</td>\n",
              "    </tr>\n",
              "    <tr>\n",
              "      <th>13</th>\n",
              "      <td>17.0</td>\n",
              "      <td>83.5</td>\n",
              "    </tr>\n",
              "    <tr>\n",
              "      <th>14</th>\n",
              "      <td>14.4</td>\n",
              "      <td>76.3</td>\n",
              "    </tr>\n",
              "  </tbody>\n",
              "</table>\n",
              "</div>"
            ],
            "text/plain": [
              "    Chirps/Second  Ground Temperature\n",
              "0            20.0                88.6\n",
              "1            16.0                71.6\n",
              "2            19.8                93.3\n",
              "3            18.4                84.3\n",
              "4            17.1                80.6\n",
              "5            15.5                75.2\n",
              "6            14.7                69.7\n",
              "7            15.7                71.6\n",
              "8            15.4                69.4\n",
              "9            16.3                83.3\n",
              "10           15.0                79.6\n",
              "11           17.2                82.6\n",
              "12           16.0                80.6\n",
              "13           17.0                83.5\n",
              "14           14.4                76.3"
            ]
          },
          "execution_count": 370,
          "metadata": {},
          "output_type": "execute_result"
        }
      ],
      "source": [
        "df"
      ]
    },
    {
      "cell_type": "code",
      "execution_count": null,
      "id": "bc8dfd3f",
      "metadata": {
        "id": "bc8dfd3f",
        "outputId": "cd8d5a58-f9aa-46ec-ca6b-3c35644653f2"
      },
      "outputs": [
        {
          "data": {
            "text/plain": [
              "(15, 2)"
            ]
          },
          "execution_count": 371,
          "metadata": {},
          "output_type": "execute_result"
        }
      ],
      "source": [
        "df.shape"
      ]
    },
    {
      "cell_type": "code",
      "execution_count": null,
      "id": "c4bbb5b0",
      "metadata": {
        "id": "c4bbb5b0",
        "outputId": "c8f20486-6975-41bb-ffe7-68cde294f0ce"
      },
      "outputs": [
        {
          "name": "stdout",
          "output_type": "stream",
          "text": [
            "Number of rows =  15\n",
            "Number of columns =  2\n"
          ]
        }
      ],
      "source": [
        "print(\"Number of rows = \", df.shape[0])\n",
        "print(\"Number of columns = \", df.shape[1])"
      ]
    },
    {
      "cell_type": "markdown",
      "id": "2f84f11b",
      "metadata": {
        "id": "2f84f11b"
      },
      "source": [
        "### Clean the data"
      ]
    },
    {
      "cell_type": "code",
      "execution_count": null,
      "id": "40caeef8",
      "metadata": {
        "id": "40caeef8",
        "outputId": "9bd75616-2f40-4f2e-ab56-4103df6bac17"
      },
      "outputs": [
        {
          "data": {
            "text/html": [
              "<div>\n",
              "<style scoped>\n",
              "    .dataframe tbody tr th:only-of-type {\n",
              "        vertical-align: middle;\n",
              "    }\n",
              "\n",
              "    .dataframe tbody tr th {\n",
              "        vertical-align: top;\n",
              "    }\n",
              "\n",
              "    .dataframe thead th {\n",
              "        text-align: right;\n",
              "    }\n",
              "</style>\n",
              "<table border=\"1\" class=\"dataframe\">\n",
              "  <thead>\n",
              "    <tr style=\"text-align: right;\">\n",
              "      <th></th>\n",
              "      <th>False</th>\n",
              "    </tr>\n",
              "  </thead>\n",
              "  <tbody>\n",
              "    <tr>\n",
              "      <th>Chirps/Second</th>\n",
              "      <td>15</td>\n",
              "    </tr>\n",
              "    <tr>\n",
              "      <th>Ground Temperature</th>\n",
              "      <td>15</td>\n",
              "    </tr>\n",
              "  </tbody>\n",
              "</table>\n",
              "</div>"
            ],
            "text/plain": [
              "                    False\n",
              "Chirps/Second          15\n",
              "Ground Temperature     15"
            ]
          },
          "execution_count": 373,
          "metadata": {},
          "output_type": "execute_result"
        }
      ],
      "source": [
        "df.isna().apply(pd.value_counts).T"
      ]
    },
    {
      "cell_type": "code",
      "execution_count": null,
      "id": "3a70ab1d",
      "metadata": {
        "id": "3a70ab1d",
        "outputId": "573828fd-5693-470b-bb26-ee4c487b551c"
      },
      "outputs": [
        {
          "name": "stdout",
          "output_type": "stream",
          "text": [
            "<class 'pandas.core.frame.DataFrame'>\n",
            "RangeIndex: 15 entries, 0 to 14\n",
            "Data columns (total 2 columns):\n",
            " #   Column              Non-Null Count  Dtype  \n",
            "---  ------              --------------  -----  \n",
            " 0   Chirps/Second       15 non-null     float64\n",
            " 1   Ground Temperature  15 non-null     float64\n",
            "dtypes: float64(2)\n",
            "memory usage: 368.0 bytes\n"
          ]
        }
      ],
      "source": [
        "df.info()"
      ]
    },
    {
      "cell_type": "code",
      "execution_count": null,
      "id": "91e9e268",
      "metadata": {
        "id": "91e9e268",
        "outputId": "ece6933f-4c50-47af-b330-8c50d553ab0e"
      },
      "outputs": [
        {
          "data": {
            "text/plain": [
              "Chirps/Second         float64\n",
              "Ground Temperature    float64\n",
              "dtype: object"
            ]
          },
          "execution_count": 375,
          "metadata": {},
          "output_type": "execute_result"
        }
      ],
      "source": [
        "df.dtypes"
      ]
    },
    {
      "cell_type": "code",
      "execution_count": null,
      "id": "d4bd1d30",
      "metadata": {
        "id": "d4bd1d30",
        "outputId": "b91b3fca-c3b3-4e9d-dd38-d2d834ac1155"
      },
      "outputs": [
        {
          "data": {
            "text/plain": [
              "Chirps/Second         0\n",
              "Ground Temperature    0\n",
              "dtype: int64"
            ]
          },
          "execution_count": 376,
          "metadata": {},
          "output_type": "execute_result"
        }
      ],
      "source": [
        "df.isnull().sum()"
      ]
    },
    {
      "cell_type": "markdown",
      "id": "a5331040",
      "metadata": {
        "id": "a5331040"
      },
      "source": [
        "#### Statistical Measures"
      ]
    },
    {
      "cell_type": "code",
      "execution_count": null,
      "id": "0fcec576",
      "metadata": {
        "id": "0fcec576",
        "outputId": "fce35788-cede-46d1-9d78-c2cce79a5be8"
      },
      "outputs": [
        {
          "data": {
            "text/html": [
              "<div>\n",
              "<style scoped>\n",
              "    .dataframe tbody tr th:only-of-type {\n",
              "        vertical-align: middle;\n",
              "    }\n",
              "\n",
              "    .dataframe tbody tr th {\n",
              "        vertical-align: top;\n",
              "    }\n",
              "\n",
              "    .dataframe thead th {\n",
              "        text-align: right;\n",
              "    }\n",
              "</style>\n",
              "<table border=\"1\" class=\"dataframe\">\n",
              "  <thead>\n",
              "    <tr style=\"text-align: right;\">\n",
              "      <th></th>\n",
              "      <th>Chirps/Second</th>\n",
              "      <th>Ground Temperature</th>\n",
              "    </tr>\n",
              "  </thead>\n",
              "  <tbody>\n",
              "    <tr>\n",
              "      <th>count</th>\n",
              "      <td>15.000000</td>\n",
              "      <td>15.000000</td>\n",
              "    </tr>\n",
              "    <tr>\n",
              "      <th>mean</th>\n",
              "      <td>16.566667</td>\n",
              "      <td>79.346667</td>\n",
              "    </tr>\n",
              "    <tr>\n",
              "      <th>std</th>\n",
              "      <td>1.712837</td>\n",
              "      <td>7.020467</td>\n",
              "    </tr>\n",
              "    <tr>\n",
              "      <th>min</th>\n",
              "      <td>14.400000</td>\n",
              "      <td>69.400000</td>\n",
              "    </tr>\n",
              "    <tr>\n",
              "      <th>25%</th>\n",
              "      <td>15.450000</td>\n",
              "      <td>73.400000</td>\n",
              "    </tr>\n",
              "    <tr>\n",
              "      <th>50%</th>\n",
              "      <td>16.000000</td>\n",
              "      <td>80.600000</td>\n",
              "    </tr>\n",
              "    <tr>\n",
              "      <th>75%</th>\n",
              "      <td>17.150000</td>\n",
              "      <td>83.400000</td>\n",
              "    </tr>\n",
              "    <tr>\n",
              "      <th>max</th>\n",
              "      <td>20.000000</td>\n",
              "      <td>93.300000</td>\n",
              "    </tr>\n",
              "  </tbody>\n",
              "</table>\n",
              "</div>"
            ],
            "text/plain": [
              "       Chirps/Second  Ground Temperature\n",
              "count      15.000000           15.000000\n",
              "mean       16.566667           79.346667\n",
              "std         1.712837            7.020467\n",
              "min        14.400000           69.400000\n",
              "25%        15.450000           73.400000\n",
              "50%        16.000000           80.600000\n",
              "75%        17.150000           83.400000\n",
              "max        20.000000           93.300000"
            ]
          },
          "execution_count": 377,
          "metadata": {},
          "output_type": "execute_result"
        }
      ],
      "source": [
        "df.describe()"
      ]
    },
    {
      "cell_type": "markdown",
      "id": "1059b3df",
      "metadata": {
        "id": "1059b3df"
      },
      "source": [
        "Median and mean are closer to each other - there is less skew in the data"
      ]
    },
    {
      "cell_type": "code",
      "execution_count": null,
      "id": "a9447eac",
      "metadata": {
        "id": "a9447eac"
      },
      "outputs": [],
      "source": [
        "corr=df.corr()"
      ]
    },
    {
      "cell_type": "code",
      "execution_count": null,
      "id": "9224c110",
      "metadata": {
        "id": "9224c110",
        "outputId": "b3a6a275-b6b6-48dd-9a7f-bbd26ae507f5"
      },
      "outputs": [
        {
          "data": {
            "text/html": [
              "<div>\n",
              "<style scoped>\n",
              "    .dataframe tbody tr th:only-of-type {\n",
              "        vertical-align: middle;\n",
              "    }\n",
              "\n",
              "    .dataframe tbody tr th {\n",
              "        vertical-align: top;\n",
              "    }\n",
              "\n",
              "    .dataframe thead th {\n",
              "        text-align: right;\n",
              "    }\n",
              "</style>\n",
              "<table border=\"1\" class=\"dataframe\">\n",
              "  <thead>\n",
              "    <tr style=\"text-align: right;\">\n",
              "      <th></th>\n",
              "      <th>Chirps/Second</th>\n",
              "    </tr>\n",
              "  </thead>\n",
              "  <tbody>\n",
              "    <tr>\n",
              "      <th>Chirps/Second</th>\n",
              "      <td>1.000000</td>\n",
              "    </tr>\n",
              "    <tr>\n",
              "      <th>Ground Temperature</th>\n",
              "      <td>0.832042</td>\n",
              "    </tr>\n",
              "  </tbody>\n",
              "</table>\n",
              "</div>"
            ],
            "text/plain": [
              "                    Chirps/Second\n",
              "Chirps/Second            1.000000\n",
              "Ground Temperature       0.832042"
            ]
          },
          "execution_count": 379,
          "metadata": {},
          "output_type": "execute_result"
        }
      ],
      "source": [
        "corr[['Chirps/Second']]"
      ]
    },
    {
      "cell_type": "code",
      "execution_count": null,
      "id": "25d3081e",
      "metadata": {
        "id": "25d3081e",
        "outputId": "7995b026-87c2-4e95-8856-e4d8104f4b97"
      },
      "outputs": [
        {
          "data": {
            "image/png": "[encoded data removed]",
            "text/plain": [
              "<Figure size 360x360 with 2 Axes>"
            ]
          },
          "metadata": {
            "needs_background": "light"
          },
          "output_type": "display_data"
        }
      ],
      "source": [
        "plt.figure(figsize=(5,5))\n",
        "sns.heatmap(corr,cmap='Blues',annot=True,cbar=True,fmt='g')\n",
        "plt.show()"
      ]
    },
    {
      "cell_type": "markdown",
      "id": "87ad2812",
      "metadata": {
        "id": "87ad2812"
      },
      "source": [
        "#### Chart the original data and the equation on the chart."
      ]
    },
    {
      "cell_type": "code",
      "execution_count": null,
      "id": "e017cdac",
      "metadata": {
        "id": "e017cdac",
        "outputId": "0db57ce0-ce50-4937-9b30-8755176c830c"
      },
      "outputs": [
        {
          "data": {
            "image/png": "[encoded data removed]",
            "text/plain": [
              "<Figure size 432x288 with 1 Axes>"
            ]
          },
          "metadata": {
            "needs_background": "light"
          },
          "output_type": "display_data"
        }
      ],
      "source": [
        "df.plot(x='Ground Temperature', y='Chirps/Second', style='*')\n",
        "plt.title('Chirps/Second vs Ground Temperature')\n",
        "plt.xlabel('Ground Temperature')\n",
        "plt.ylabel('Chirps/Second')\n",
        "plt.show()"
      ]
    },
    {
      "cell_type": "markdown",
      "id": "5ff6e5e1",
      "metadata": {
        "id": "5ff6e5e1"
      },
      "source": [
        "### Data Preparation"
      ]
    },
    {
      "cell_type": "code",
      "execution_count": null,
      "id": "14d441c8",
      "metadata": {
        "id": "14d441c8"
      },
      "outputs": [],
      "source": [
        "X=df[['Ground Temperature']]\n",
        "y=df[['Chirps/Second']]"
      ]
    },
    {
      "cell_type": "markdown",
      "id": "d15939db",
      "metadata": {
        "id": "d15939db"
      },
      "source": [
        "### Split Data"
      ]
    },
    {
      "cell_type": "code",
      "execution_count": null,
      "id": "32a62daa",
      "metadata": {
        "id": "32a62daa"
      },
      "outputs": [],
      "source": [
        "X_train,X_test,y_train,y_test=train_test_split(X,y,test_size=0.3,random_state=1)"
      ]
    },
    {
      "cell_type": "code",
      "execution_count": null,
      "id": "37995c5f",
      "metadata": {
        "id": "37995c5f",
        "outputId": "0acfa298-d76e-4a24-afad-a06b14017c24"
      },
      "outputs": [
        {
          "name": "stdout",
          "output_type": "stream",
          "text": [
            "(10, 1) (5, 1) (10, 1) (5, 1)\n"
          ]
        }
      ],
      "source": [
        "print(X_train.shape,X_test.shape,y_train.shape,y_test.shape)"
      ]
    },
    {
      "cell_type": "markdown",
      "id": "39935f1d",
      "metadata": {
        "id": "39935f1d"
      },
      "source": [
        "### Model Training"
      ]
    },
    {
      "cell_type": "code",
      "execution_count": null,
      "id": "0601904a",
      "metadata": {
        "id": "0601904a"
      },
      "outputs": [],
      "source": [
        "lr=LinearRegression()"
      ]
    },
    {
      "cell_type": "code",
      "execution_count": null,
      "id": "562247c1",
      "metadata": {
        "id": "562247c1",
        "outputId": "8e07b709-fca7-4a3b-8433-0eb0105922eb"
      },
      "outputs": [
        {
          "data": {
            "text/plain": [
              "LinearRegression()"
            ]
          },
          "execution_count": 386,
          "metadata": {},
          "output_type": "execute_result"
        }
      ],
      "source": [
        "lr.fit(X_train,y_train)"
      ]
    },
    {
      "cell_type": "code",
      "execution_count": null,
      "id": "24750506",
      "metadata": {
        "id": "24750506"
      },
      "outputs": [],
      "source": [
        "y_pred=lr.predict(X_test)"
      ]
    },
    {
      "cell_type": "markdown",
      "id": "9c81758c",
      "metadata": {
        "id": "9c81758c"
      },
      "source": [
        "Intercept c "
      ]
    },
    {
      "cell_type": "code",
      "execution_count": null,
      "id": "a1e560cb",
      "metadata": {
        "id": "a1e560cb",
        "outputId": "3098ee90-df9d-4df5-8c70-ef7f85308d68"
      },
      "outputs": [
        {
          "data": {
            "text/plain": [
              "array([1.16773187])"
            ]
          },
          "execution_count": 388,
          "metadata": {},
          "output_type": "execute_result"
        }
      ],
      "source": [
        "lr.intercept_"
      ]
    },
    {
      "cell_type": "markdown",
      "id": "7f42a6eb",
      "metadata": {
        "id": "7f42a6eb"
      },
      "source": [
        " Slope or m in y=mx+c"
      ]
    },
    {
      "cell_type": "code",
      "execution_count": null,
      "id": "eacd829e",
      "metadata": {
        "id": "eacd829e",
        "outputId": "96219345-a2e5-488d-c013-9bc05c2d60e7"
      },
      "outputs": [
        {
          "data": {
            "text/plain": [
              "array([[0.19353629]])"
            ]
          },
          "execution_count": 389,
          "metadata": {},
          "output_type": "execute_result"
        }
      ],
      "source": [
        "lr.coef_"
      ]
    },
    {
      "cell_type": "markdown",
      "id": "9081ece0",
      "metadata": {
        "id": "9081ece0"
      },
      "source": [
        "### Evaluation"
      ]
    },
    {
      "cell_type": "code",
      "execution_count": null,
      "id": "2ac04962",
      "metadata": {
        "id": "2ac04962",
        "outputId": "bd17cbe2-13c3-427b-e678-17aa86513330"
      },
      "outputs": [
        {
          "data": {
            "text/plain": [
              "0.7986678171941262"
            ]
          },
          "execution_count": 390,
          "metadata": {},
          "output_type": "execute_result"
        }
      ],
      "source": [
        "r2_score(y_test,y_pred)"
      ]
    },
    {
      "cell_type": "markdown",
      "id": "8d7fe1a5",
      "metadata": {
        "id": "8d7fe1a5"
      },
      "source": [
        "1 . Find the linear regression equation for this data."
      ]
    },
    {
      "cell_type": "markdown",
      "id": "6bbfe2da",
      "metadata": {
        "id": "6bbfe2da"
      },
      "source": [
        "y=mx+c\n",
        "\n",
        "predicted Chirps/Second=0.19353629(Ground Temperature)+1.16773187"
      ]
    },
    {
      "cell_type": "markdown",
      "id": "97f30c8d",
      "metadata": {
        "id": "97f30c8d"
      },
      "source": [
        "2.Chart the original data and the equation on the chart."
      ]
    },
    {
      "cell_type": "code",
      "execution_count": null,
      "id": "437ed1ff",
      "metadata": {
        "id": "437ed1ff",
        "outputId": "e2b74380-6e08-45c2-c027-261d8809d624"
      },
      "outputs": [
        {
          "data": {
            "image/png": "[encoded data removed]",
            "text/plain": [
              "<Figure size 360x360 with 1 Axes>"
            ]
          },
          "metadata": {
            "needs_background": "light"
          },
          "output_type": "display_data"
        }
      ],
      "source": [
        "plt.figure(figsize=(5,5))\n",
        "plt.scatter(X_test,y_test,color='gray')\n",
        "plt.plot(X_test,y_pred,color='red',linewidth=2)\n",
        "plt.xlabel('Ground Temperature')\n",
        "plt.ylabel('Chirps/Second')\n",
        "plt.title('Line of Best Fit',fontsize=20)\n",
        "plt.show()"
      ]
    },
    {
      "cell_type": "code",
      "execution_count": null,
      "id": "0451df19",
      "metadata": {
        "id": "0451df19",
        "outputId": "62c9bf19-9c1d-4c9b-c586-18c26f08fa44"
      },
      "outputs": [
        {
          "data": {
            "text/plain": [
              "array([[18.4],\n",
              "       [15.7],\n",
              "       [14.7],\n",
              "       [19.8],\n",
              "       [15. ]])"
            ]
          },
          "execution_count": 392,
          "metadata": {},
          "output_type": "execute_result"
        }
      ],
      "source": [
        "y_act=y_test.values\n",
        "y_act"
      ]
    },
    {
      "cell_type": "code",
      "execution_count": null,
      "id": "b1c5493c",
      "metadata": {
        "id": "b1c5493c",
        "outputId": "dd4ef914-aeb9-4268-a3f7-741119611aee"
      },
      "outputs": [
        {
          "data": {
            "text/plain": [
              "array([[17.48284117],\n",
              "       [15.02493028],\n",
              "       [14.65721133],\n",
              "       [19.22466779],\n",
              "       [16.5732206 ]])"
            ]
          },
          "execution_count": 393,
          "metadata": {},
          "output_type": "execute_result"
        }
      ],
      "source": [
        "y_pred"
      ]
    },
    {
      "cell_type": "code",
      "execution_count": null,
      "id": "50257a39",
      "metadata": {
        "id": "50257a39",
        "outputId": "2effd04d-1b0c-4b70-9e24-16309a1dd67e"
      },
      "outputs": [
        {
          "data": {
            "text/html": [
              "<div>\n",
              "<style scoped>\n",
              "    .dataframe tbody tr th:only-of-type {\n",
              "        vertical-align: middle;\n",
              "    }\n",
              "\n",
              "    .dataframe tbody tr th {\n",
              "        vertical-align: top;\n",
              "    }\n",
              "\n",
              "    .dataframe thead th {\n",
              "        text-align: right;\n",
              "    }\n",
              "</style>\n",
              "<table border=\"1\" class=\"dataframe\">\n",
              "  <thead>\n",
              "    <tr style=\"text-align: right;\">\n",
              "      <th></th>\n",
              "      <th>Actual</th>\n",
              "      <th>Predicted</th>\n",
              "    </tr>\n",
              "  </thead>\n",
              "  <tbody>\n",
              "    <tr>\n",
              "      <th>0</th>\n",
              "      <td>18.4</td>\n",
              "      <td>17.482841</td>\n",
              "    </tr>\n",
              "    <tr>\n",
              "      <th>1</th>\n",
              "      <td>15.7</td>\n",
              "      <td>15.024930</td>\n",
              "    </tr>\n",
              "    <tr>\n",
              "      <th>2</th>\n",
              "      <td>14.7</td>\n",
              "      <td>14.657211</td>\n",
              "    </tr>\n",
              "    <tr>\n",
              "      <th>3</th>\n",
              "      <td>19.8</td>\n",
              "      <td>19.224668</td>\n",
              "    </tr>\n",
              "    <tr>\n",
              "      <th>4</th>\n",
              "      <td>15.0</td>\n",
              "      <td>16.573221</td>\n",
              "    </tr>\n",
              "  </tbody>\n",
              "</table>\n",
              "</div>"
            ],
            "text/plain": [
              "   Actual  Predicted\n",
              "0    18.4  17.482841\n",
              "1    15.7  15.024930\n",
              "2    14.7  14.657211\n",
              "3    19.8  19.224668\n",
              "4    15.0  16.573221"
            ]
          },
          "execution_count": 394,
          "metadata": {},
          "output_type": "execute_result"
        }
      ],
      "source": [
        "data=pd.DataFrame({'Actual':y_act.flatten(),'Predicted': y_pred.flatten()})\n",
        "data"
      ]
    },
    {
      "cell_type": "markdown",
      "id": "ecd29528",
      "metadata": {
        "id": "ecd29528"
      },
      "source": [
        "3.Find the equation's  𝑅2  score (use the .score method) to determine whether the equation is a good fit for this data. (0.8 and greater is considered a strong correlation.)"
      ]
    },
    {
      "cell_type": "code",
      "execution_count": null,
      "id": "d22ce5a1",
      "metadata": {
        "id": "d22ce5a1",
        "outputId": "0cc08704-4ecf-4075-ee10-88e86b3d1d6b"
      },
      "outputs": [
        {
          "data": {
            "text/plain": [
              "0.7986678171941262"
            ]
          },
          "execution_count": 395,
          "metadata": {},
          "output_type": "execute_result"
        }
      ],
      "source": [
        "r2_score(y_test,y_pred)"
      ]
    },
    {
      "cell_type": "markdown",
      "id": "e485b577",
      "metadata": {
        "id": "e485b577"
      },
      "source": [
        "4.Extrapolate data: If the ground temperature reached 95, then at what approximate rate would you expect the crickets to be chirping?"
      ]
    },
    {
      "cell_type": "code",
      "execution_count": null,
      "id": "2cc1b540",
      "metadata": {
        "id": "2cc1b540",
        "outputId": "dfac72fe-b40f-477e-8ed5-7c43e93ade35"
      },
      "outputs": [
        {
          "data": {
            "text/plain": [
              "array([[19.55367948]])"
            ]
          },
          "execution_count": 396,
          "metadata": {},
          "output_type": "execute_result"
        }
      ],
      "source": [
        "\n",
        "#predicted Chirps/Second=1.09024852(Ground Temperature)+16.49\n",
        "lr.predict([[95]])"
      ]
    },
    {
      "cell_type": "markdown",
      "id": "7d36b38b",
      "metadata": {
        "id": "7d36b38b"
      },
      "source": [
        "5.Interpolate data: With a listening device, you discovered that on a particular morning the crickets were chirping at a rate of 18 chirps per second. What was the approximate ground temperature that morning?"
      ]
    },
    {
      "cell_type": "code",
      "execution_count": null,
      "id": "1ed11e59",
      "metadata": {
        "id": "1ed11e59"
      },
      "outputs": [],
      "source": [
        "#18=0.19353629(Ground Temperature)+1.16773187\n",
        "86.97"
      ]
    }
  ],
  "metadata": {
    "kernelspec": {
      "display_name": "Python 3 (ipykernel)",
      "language": "python",
      "name": "python3"
    },
    "language_info": {
      "codemirror_mode": {
        "name": "ipython",
        "version": 3
      },
      "file_extension": ".py",
      "mimetype": "text/x-python",
      "name": "python",
      "nbconvert_exporter": "python",
      "pygments_lexer": "ipython3",
      "version": "3.8.8"
    },
    "colab": {
      "name": "Assignment 5_6_7 -Ground Cricket Chirps.ipynb",
      "provenance": [],
      "include_colab_link": true
    }
  },
  "nbformat": 4,
  "nbformat_minor": 5
}